{
    "cells": [
        {
            "cell_type": "markdown",
            "metadata": {},
            "source": "# Description \nthis notebook analyses and visualises customerloyalty data."
        },
        {
            "cell_type": "code",
            "execution_count": 1,
            "metadata": {},
            "outputs": [
                {
                    "data": {
                        "text/html": "<div>\n<style scoped>\n    .dataframe tbody tr th:only-of-type {\n        vertical-align: middle;\n    }\n\n    .dataframe tbody tr th {\n        vertical-align: top;\n    }\n\n    .dataframe thead th {\n        text-align: right;\n    }\n</style>\n<table border=\"1\" class=\"dataframe\">\n  <thead>\n    <tr style=\"text-align: right;\">\n      <th></th>\n      <th>Loyalty Number</th>\n      <th>First Name</th>\n      <th>Last Name</th>\n      <th>Customer Name</th>\n      <th>Country</th>\n      <th>Province or State</th>\n      <th>StateAbbr</th>\n      <th>City</th>\n      <th>Latitude</th>\n      <th>Longitude</th>\n      <th>...</th>\n      <th>LoyaltyStatus</th>\n      <th>Product Line</th>\n      <th>Coupon Response</th>\n      <th>Count</th>\n      <th>Quantity Sold</th>\n      <th>Unit Sale Price</th>\n      <th>Unit Cost</th>\n      <th>Revenue</th>\n      <th>Customer Lifetime Value</th>\n      <th>Loyalty Count</th>\n    </tr>\n  </thead>\n  <tbody>\n    <tr>\n      <th>0</th>\n      <td>689112</td>\n      <td>Aaron</td>\n      <td>Macayan</td>\n      <td>Aaron Macayan</td>\n      <td>Canada</td>\n      <td>Ontario</td>\n      <td>ON</td>\n      <td>Toronto</td>\n      <td>43.653226</td>\n      <td>-79.383184</td>\n      <td>...</td>\n      <td>Bronze</td>\n      <td>Computers and Home Office</td>\n      <td>Coupon 1</td>\n      <td>1</td>\n      <td>1</td>\n      <td>594</td>\n      <td>504.90</td>\n      <td>594</td>\n      <td>2895.52</td>\n      <td>1</td>\n    </tr>\n    <tr>\n      <th>1</th>\n      <td>991054</td>\n      <td>Abbey</td>\n      <td>Boettger</td>\n      <td>Abbey Boettger</td>\n      <td>United Kingdom</td>\n      <td>Greater London</td>\n      <td>JS</td>\n      <td>London</td>\n      <td>51.507351</td>\n      <td>-0.127758</td>\n      <td>...</td>\n      <td>Bronze</td>\n      <td>Computers and Home Office</td>\n      <td>Coupon 1</td>\n      <td>1</td>\n      <td>2</td>\n      <td>361</td>\n      <td>306.85</td>\n      <td>722</td>\n      <td>11546.17</td>\n      <td>1</td>\n    </tr>\n    <tr>\n      <th>2</th>\n      <td>845894</td>\n      <td>Abbie</td>\n      <td>Privitera</td>\n      <td>Abbie Privitera</td>\n      <td>Germany</td>\n      <td>Hessen</td>\n      <td>HE</td>\n      <td>Frankfurt</td>\n      <td>50.110922</td>\n      <td>8.682127</td>\n      <td>...</td>\n      <td>Silver</td>\n      <td>Smart Electronics</td>\n      <td>Coupon 1</td>\n      <td>1</td>\n      <td>7</td>\n      <td>109</td>\n      <td>92.65</td>\n      <td>763</td>\n      <td>5837.53</td>\n      <td>1</td>\n    </tr>\n    <tr>\n      <th>3</th>\n      <td>312490</td>\n      <td>Adah</td>\n      <td>Demmert</td>\n      <td>Adah Demmert</td>\n      <td>Canada</td>\n      <td>Quebec</td>\n      <td>QC</td>\n      <td>Montreal</td>\n      <td>45.501689</td>\n      <td>-73.567256</td>\n      <td>...</td>\n      <td>VIP</td>\n      <td>TV and Video Gaming</td>\n      <td>Coupon 1</td>\n      <td>1</td>\n      <td>2</td>\n      <td>1106</td>\n      <td>940.10</td>\n      <td>2212</td>\n      <td>7319.58</td>\n      <td>1</td>\n    </tr>\n    <tr>\n      <th>4</th>\n      <td>500884</td>\n      <td>Adaline</td>\n      <td>Jaenke</td>\n      <td>Adaline Jaenke</td>\n      <td>United Kingdom</td>\n      <td>Brighton and Hove</td>\n      <td>JI</td>\n      <td>Bear Road</td>\n      <td>50.837645</td>\n      <td>-0.122104</td>\n      <td>...</td>\n      <td>Bronze</td>\n      <td>Computers and Home Office</td>\n      <td>Coupon 6</td>\n      <td>1</td>\n      <td>2</td>\n      <td>1066</td>\n      <td>906.10</td>\n      <td>2132</td>\n      <td>14166.20</td>\n      <td>1</td>\n    </tr>\n  </tbody>\n</table>\n<p>5 rows \u00d7 27 columns</p>\n</div>",
                        "text/plain": "   Loyalty Number First Name  Last Name    Customer Name         Country  \\\n0          689112      Aaron    Macayan    Aaron Macayan          Canada   \n1          991054      Abbey   Boettger   Abbey Boettger  United Kingdom   \n2          845894      Abbie  Privitera  Abbie Privitera         Germany   \n3          312490       Adah    Demmert     Adah Demmert          Canada   \n4          500884    Adaline     Jaenke   Adaline Jaenke  United Kingdom   \n\n   Province or State StateAbbr       City   Latitude  Longitude  ...  \\\n0            Ontario        ON    Toronto  43.653226 -79.383184  ...   \n1     Greater London        JS     London  51.507351  -0.127758  ...   \n2             Hessen        HE  Frankfurt  50.110922   8.682127  ...   \n3             Quebec        QC   Montreal  45.501689 -73.567256  ...   \n4  Brighton and Hove        JI  Bear Road  50.837645  -0.122104  ...   \n\n  LoyaltyStatus               Product Line Coupon Response  Count  \\\n0        Bronze  Computers and Home Office        Coupon 1      1   \n1        Bronze  Computers and Home Office        Coupon 1      1   \n2        Silver          Smart Electronics        Coupon 1      1   \n3           VIP        TV and Video Gaming        Coupon 1      1   \n4        Bronze  Computers and Home Office        Coupon 6      1   \n\n   Quantity Sold Unit Sale Price  Unit Cost Revenue Customer Lifetime Value  \\\n0              1             594     504.90     594                 2895.52   \n1              2             361     306.85     722                11546.17   \n2              7             109      92.65     763                 5837.53   \n3              2            1106     940.10    2212                 7319.58   \n4              2            1066     906.10    2132                14166.20   \n\n  Loyalty Count  \n0             1  \n1             1  \n2             1  \n3             1  \n4             1  \n\n[5 rows x 27 columns]"
                    },
                    "execution_count": 1,
                    "metadata": {},
                    "output_type": "execute_result"
                }
            ],
            "source": "# The code was removed by Watson Studio for sharing."
        }
    ],
    "metadata": {
        "kernelspec": {
            "display_name": "Python 3.10",
            "language": "python",
            "name": "python3"
        },
        "language_info": {
            "codemirror_mode": {
                "name": "ipython",
                "version": 3
            },
            "file_extension": ".py",
            "mimetype": "text/x-python",
            "name": "python",
            "nbconvert_exporter": "python",
            "pygments_lexer": "ipython3",
            "version": "3.10.9"
        }
    },
    "nbformat": 4,
    "nbformat_minor": 1
}